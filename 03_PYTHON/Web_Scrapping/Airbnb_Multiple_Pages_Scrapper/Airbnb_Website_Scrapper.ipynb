{
 "cells": [
  {
   "cell_type": "code",
   "execution_count": 23,
   "id": "196114cd-821c-45dc-be14-f6518bff61fd",
   "metadata": {},
   "outputs": [
    {
     "name": "stdout",
     "output_type": "stream",
     "text": [
      "<Response [200]>\n",
      "Next button not found.\n"
     ]
    }
   ],
   "source": [
    "import pandas as pd\n",
    "import requests\n",
    "from bs4 import BeautifulSoup\n",
    "\n",
    "url = \"https://www.airbnb.co.in/s/Kolkata--India/homes?place_id=ChIJZ_YISduC-DkRvCxsj-Yw40M&refinement_paths%5B%5D=%2Fhomes\"\n",
    "\n",
    "headers = {\n",
    "    'User-Agent': 'Mozilla/5.0 (Macintosh; Intel Mac OS X 10_11_6) AppleWebKit/537.36 (KHTML, like Gecko) Chrome/61.0.3163.100 Safari/537.36'\n",
    "}\n",
    "\n",
    "\n",
    "\n",
    "# Send a GET request to the webpage\n",
    "response = requests.get(url, headers=headers)\n",
    "print(r)\n",
    "\n",
    "# Parse the page content with BeautifulSoup\n",
    "soup = BeautifulSoup(response.text, \"lxml\")\n",
    "\n",
    "# Find the \"Next\" button using its aria-label attribute\n",
    "next_button = soup.find(\"a\", {\"aria-label\": \"Next\"})\n",
    "\n",
    "# Check if the Next button is found\n",
    "if next_button:\n",
    "    # Extract the href attribute (URL) of the \"Next\" button\n",
    "    next_page_url = next_button.get(\"href\")\n",
    "    print(f\"Next page URL: {next_page_url}\")\n",
    "else:\n",
    "    print(\"Next button not found.\")"
   ]
  },
  {
   "cell_type": "code",
   "execution_count": 39,
   "id": "676ccd5e-aee2-47a6-8aad-645acfe720ff",
   "metadata": {},
   "outputs": [
    {
     "name": "stdout",
     "output_type": "stream",
     "text": [
      "<Response [200]>\n",
      "None\n"
     ]
    }
   ],
   "source": [
    "import pandas as pd\n",
    "import requests\n",
    "from bs4 import BeautifulSoup\n",
    "\n",
    "url = \"https://www.airbnb.co.in/s/Kolkata--India/homes?place_id=ChIJZ_YISduC-DkRvCxsj-Yw40M&refinement_paths%5B%5D=%2Fhomes&tab_id=home_tab&query=Kolkata%2C%20India&flexible_trip_lengths%5B%5D=one_week&monthly_start_date=2024-09-01&monthly_length=3&monthly_end_date=2024-12-01&search_mode=regular_search&price_filter_input_type=0&channel=EXPLORE&federated_search_session_id=7da48fdd-7fb1-47f3-87eb-81d4e99b2dea&search_type=unknown&pagination_search=true&cursor=eyJzZWN0aW9uX29mZnNldCI6MCwiaXRlbXNfb2Zmc2V0IjoxOCwidmVyc2lvbiI6MX0%3D\"\n",
    "\n",
    "headers = {\n",
    "    'User-Agent': 'Mozilla/5.0 (Macintosh; Intel Mac OS X 10_11_6) AppleWebKit/537.36 (KHTML, like Gecko) Chrome/61.0.3163.100 Safari/537.36'\n",
    "}\n",
    "\n",
    "l1ovpqvx atm_1he2i46_1k8pnbi_10saat9 atm_yxpdqi_1pv6nv4_10saat9 atm_1a0hdzc_w1h1e8_10saat9 atm_2bu6ew_929bqk_10saat9 atm_12oyo1u_73u7pn_10saat9 atm_fiaz40_1etamxe_10saat9 c1ackr0h atm_c8_km0zk7 atm_g3_18khvle atm_fr_1m9t47k atm_cs_10d11i2 atm_9s_1txwivl atm_h_1h6ojuz atm_fc_1h6ojuz atm_bb_idpfg4 atm_3f_glywfm atm_5j_1ssbidh atm_26_1j28jx2 atm_7l_jt7fhx atm_vy_1vi7ecw atm_e2_1vi7ecw atm_gi_idpfg4 atm_gz_1yuitx atm_h0_1yuitx atm_l8_idpfg4 atm_uc_10d7vwn atm_kd_glywfm atm_uc_glywfm__1rrf6b5 atm_26_zbnr2t_1nos8r_uv4tnr atm_tr_kv3y6q_csw3t1 atm_26_zbnr2t_csw3t1 atm_9j_73adwj_1o5j5ji atm_3f_glywfm_jo46a5 atm_l8_idpfg4_jo46a5 atm_gi_idpfg4_jo46a5 atm_3f_glywfm_1icshfk atm_kd_glywfm_19774hq atm_uc_aaiy6o_1w3cfyq atm_26_zbnr2t_1w3cfyq atm_70_1agwrbf_1w3cfyq atm_uc_glywfm_1w3cfyq_1rrf6b5 atm_uc_aaiy6o_pfnrn2_1oszvuo atm_26_zbnr2t_pfnrn2_1oszvuo atm_70_1agwrbf_pfnrn2_1oszvuo atm_uc_glywfm_pfnrn2_1o31aam dir dir-ltr\n",
    "\n",
    "# Send a GET request to the webpage\n",
    "response = requests.get(url, headers=headers)\n",
    "print(r)\n",
    "\n",
    "# Parse the page content with BeautifulSoup\n",
    "soup = BeautifulSoup(response.text, \"lxml\")\n",
    "next_button = soup.find(\"a\", {\"aria-label\": \"Next\"})\n",
    "if next_button:\n",
    "    next_page_url = next_button.get(\"href\")\n",
    "else:\n",
    "    next_page_url = None\n",
    "print(next_page_url)"
   ]
  },
  {
   "cell_type": "code",
   "execution_count": null,
   "id": "8d903c0d-910e-48ff-a11a-b32300617259",
   "metadata": {},
   "outputs": [],
   "source": []
  }
 ],
 "metadata": {
  "kernelspec": {
   "display_name": "Python 3 (ipykernel)",
   "language": "python",
   "name": "python3"
  },
  "language_info": {
   "codemirror_mode": {
    "name": "ipython",
    "version": 3
   },
   "file_extension": ".py",
   "mimetype": "text/x-python",
   "name": "python",
   "nbconvert_exporter": "python",
   "pygments_lexer": "ipython3",
   "version": "3.12.4"
  }
 },
 "nbformat": 4,
 "nbformat_minor": 5
}
